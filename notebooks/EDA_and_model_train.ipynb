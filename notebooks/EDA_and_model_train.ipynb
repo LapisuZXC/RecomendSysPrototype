{
 "cells": [
  {
   "cell_type": "code",
   "execution_count": 27,
   "metadata": {},
   "outputs": [],
   "source": [
    "import sys\n",
    "import os\n",
    "\n",
    "# Переход в корневую директорию проекта\n",
    "project_root = os.path.abspath(\"..\")  # Выход из папки notebooks\n",
    "sys.path.append(project_root)\n",
    "\n",
    "\n"
   ]
  },
  {
   "cell_type": "code",
   "execution_count": 28,
   "metadata": {},
   "outputs": [],
   "source": [
    "import pandas as pd\n",
    "import numpy as np\n",
    "import matplotlib.pyplot as plt\n",
    "from db_init import SessionLocal, engine\n",
    "from tables import AnimeInfo, AnimeRatings\n",
    "from catboost import CatBoostRegressor\n",
    "session = SessionLocal()\n"
   ]
  },
  {
   "cell_type": "code",
   "execution_count": 29,
   "metadata": {},
   "outputs": [],
   "source": [
    "\n",
    "def batch_load_sql(query) -> pd.DataFrame:\n",
    "    CHUNKSIZE = 200000\n",
    "    conn = engine.connect().execution_options(stream_results=True)\n",
    "    chunks = []\n",
    "    for chunk_dataframe in pd.read_sql(str(query.statement), conn, chunksize=CHUNKSIZE):\n",
    "        chunks.append(chunk_dataframe)\n",
    "    conn.close()\n",
    "    return pd.concat(chunks, ignore_index=True)"
   ]
  },
  {
   "cell_type": "code",
   "execution_count": null,
   "metadata": {},
   "outputs": [],
   "source": []
  },
  {
   "cell_type": "code",
   "execution_count": 30,
   "metadata": {},
   "outputs": [],
   "source": [
    "\n",
    "query_anime_info = session.query(AnimeInfo)\n",
    "query_anime_ratings = session.query(AnimeRatings)\n",
    "df_anime_ratings = batch_load_sql(query_anime_ratings)\n",
    "\n",
    "df_anime_info = batch_load_sql(query_anime_info)\n",
    "df_anime_ratings = batch_load_sql(query_anime_ratings)\n",
    "\n",
    "\n"
   ]
  },
  {
   "cell_type": "code",
   "execution_count": 31,
   "metadata": {},
   "outputs": [
    {
     "data": {
      "text/plain": [
       "Index(['User_ID', 'Anime_ID', 'Feedback'], dtype='object')"
      ]
     },
     "execution_count": 31,
     "metadata": {},
     "output_type": "execute_result"
    }
   ],
   "source": [
    "df_anime_ratings.columns"
   ]
  },
  {
   "cell_type": "code",
   "execution_count": 32,
   "metadata": {},
   "outputs": [
    {
     "data": {
      "text/plain": [
       "Index(['anime_ids', 'name', 'genre', 'type', 'episodes', 'rating', 'members'], dtype='object')"
      ]
     },
     "execution_count": 32,
     "metadata": {},
     "output_type": "execute_result"
    }
   ],
   "source": [
    "df_anime_info.columns"
   ]
  },
  {
   "cell_type": "code",
   "execution_count": null,
   "metadata": {},
   "outputs": [],
   "source": []
  },
  {
   "cell_type": "code",
   "execution_count": 33,
   "metadata": {},
   "outputs": [],
   "source": [
    "df_merged = pd.merge(\n",
    "    df_anime_ratings,\n",
    "    df_anime_info,\n",
    "    left_on=\"Anime_ID\",\n",
    "    right_on=\"anime_ids\",\n",
    "    how=\"left\",\n",
    ")\n",
    "df_merged = df_merged.drop(columns = 'anime_ids')"
   ]
  },
  {
   "cell_type": "code",
   "execution_count": 34,
   "metadata": {},
   "outputs": [
    {
     "data": {
      "text/plain": [
       "User_ID     0\n",
       "Anime_ID    0\n",
       "Feedback    0\n",
       "name        0\n",
       "genre       0\n",
       "type        0\n",
       "episodes    0\n",
       "rating      0\n",
       "members     0\n",
       "dtype: int64"
      ]
     },
     "execution_count": 34,
     "metadata": {},
     "output_type": "execute_result"
    }
   ],
   "source": [
    "df_merged.isna().sum()"
   ]
  },
  {
   "cell_type": "code",
   "execution_count": 35,
   "metadata": {},
   "outputs": [
    {
     "data": {
      "text/plain": [
       "Index(['User_ID', 'Anime_ID', 'Feedback', 'name', 'genre', 'type', 'episodes',\n",
       "       'rating', 'members'],\n",
       "      dtype='object')"
      ]
     },
     "execution_count": 35,
     "metadata": {},
     "output_type": "execute_result"
    }
   ],
   "source": [
    "df_merged.columns"
   ]
  },
  {
   "cell_type": "code",
   "execution_count": 36,
   "metadata": {},
   "outputs": [],
   "source": [
    "df_merged['genre'] = df_merged['genre'].str.split(', ')\n"
   ]
  },
  {
   "cell_type": "code",
   "execution_count": 37,
   "metadata": {},
   "outputs": [
    {
     "data": {
      "text/plain": [
       "genre\n",
       "Comedy           208247\n",
       "Action           177319\n",
       "Romance          134575\n",
       "Drama            114345\n",
       "Fantasy          108720\n",
       "Supernatural     107767\n",
       "School           102035\n",
       "Shounen          101006\n",
       "Adventure         90375\n",
       "Sci-Fi            86772\n",
       "Slice of Life     59244\n",
       "Ecchi             50194\n",
       "Mystery           49286\n",
       "Super Power       42561\n",
       "Magic             41257\n",
       "Seinen            41118\n",
       "Harem             40433\n",
       "Psychological     31653\n",
       "Mecha             30360\n",
       "Shoujo            26268\n",
       "Horror            24028\n",
       "Military          23938\n",
       "Historical        20105\n",
       "Thriller          19803\n",
       "Demons            18149\n",
       "Parody            14875\n",
       "Martial Arts      13840\n",
       "Sports            12960\n",
       "Vampire           12409\n",
       "Game              11900\n",
       "Music             10741\n",
       "Space              9624\n",
       "Police             8855\n",
       "Kids               6660\n",
       "Samurai            6358\n",
       "Hentai             5244\n",
       "Josei              4033\n",
       "Dementia           3599\n",
       "Shoujo Ai          3536\n",
       "Shounen Ai         3161\n",
       "Yaoi               1607\n",
       "Cars               1085\n",
       "Yuri                369\n",
       "                      2\n",
       "Name: count, dtype: int64"
      ]
     },
     "execution_count": 37,
     "metadata": {},
     "output_type": "execute_result"
    }
   ],
   "source": [
    "df_merged.explode('genre')['genre'].value_counts()\n"
   ]
  },
  {
   "cell_type": "code",
   "execution_count": 38,
   "metadata": {},
   "outputs": [],
   "source": [
    "import seaborn as sns"
   ]
  },
  {
   "cell_type": "code",
   "execution_count": 39,
   "metadata": {},
   "outputs": [
    {
     "data": {
      "text/plain": [
       "<pandas.core.groupby.generic.DataFrameGroupBy object at 0x7d67ca132790>"
      ]
     },
     "execution_count": 39,
     "metadata": {},
     "output_type": "execute_result"
    }
   ],
   "source": [
    "df_merged.groupby('Anime_ID')\n"
   ]
  },
  {
   "cell_type": "code",
   "execution_count": 40,
   "metadata": {},
   "outputs": [
    {
     "data": {
      "text/plain": [
       "Feedback\n",
       "8     108782\n",
       "7      91136\n",
       "9      83242\n",
       "10     62557\n",
       "6      42433\n",
       "5      19077\n",
       "4       6847\n",
       "3       2889\n",
       "2       1702\n",
       "1       1278\n",
       "Name: count, dtype: int64"
      ]
     },
     "execution_count": 40,
     "metadata": {},
     "output_type": "execute_result"
    }
   ],
   "source": [
    "df_anime_ratings['Feedback'].value_counts()"
   ]
  },
  {
   "cell_type": "code",
   "execution_count": 41,
   "metadata": {},
   "outputs": [
    {
     "data": {
      "image/png": "[encoded data removed]",
      "text/plain": [
       "<Figure size 1000x500 with 1 Axes>"
      ]
     },
     "metadata": {},
     "output_type": "display_data"
    }
   ],
   "source": [
    "plt.figure(figsize=(10, 5))\n",
    "sns.barplot(df_anime_ratings['Feedback'].value_counts())\n",
    "plt.xlabel('Оценка')\n",
    "plt.ylabel('Частота')\n",
    "plt.title('Распределение количества оценок на аниме') # Логарифмическая шкала для удобства\n",
    "plt.show()\n"
   ]
  },
  {
   "cell_type": "code",
   "execution_count": 42,
   "metadata": {},
   "outputs": [
    {
     "data": {
      "image/png": "[encoded data removed]",
      "text/plain": [
       "<Figure size 1000x500 with 1 Axes>"
      ]
     },
     "metadata": {},
     "output_type": "display_data"
    }
   ],
   "source": [
    "anime_feedback_counts = df_merged['Anime_ID'].value_counts()\n",
    "plt.figure(figsize=(10, 5))\n",
    "sns.histplot(anime_feedback_counts, bins=50, kde=True)\n",
    "plt.xlabel('Количество оценок')\n",
    "plt.ylabel('Частота')\n",
    "plt.title('Распределение количества оценок на аниме')\n",
    "plt.yscale('log')  # Логарифмическая шкала для удобства\n",
    "plt.show()"
   ]
  },
  {
   "cell_type": "code",
   "execution_count": 43,
   "metadata": {},
   "outputs": [],
   "source": [
    "from sklearn.feature_extraction.text import TfidfVectorizer\n",
    "\n",
    "df_merged[\"genre_str\"] = df_merged[\"genre\"].apply(lambda x: \" \".join(x) if isinstance(x, list) else \"\")\n",
    "vectorizer = TfidfVectorizer()\n",
    "genre_tfidf = vectorizer.fit_transform(df_merged[\"genre_str\"])\n",
    "\n",
    "# Преобразуем в DataFrame\n",
    "genre_tfidf_df = pd.DataFrame(genre_tfidf.toarray(), columns=vectorizer.get_feature_names_out())\n",
    "\n",
    "# Добавляем к основному датасету\n",
    "df_merged = pd.concat([df_merged, genre_tfidf_df], axis=1).drop(columns=[\"genre\", \"genre_str\"])\n"
   ]
  },
  {
   "cell_type": "code",
   "execution_count": 44,
   "metadata": {},
   "outputs": [],
   "source": [
    "df_merged[\"Liked\"] = (df_merged[\"Feedback\"] >= 7).astype(int)\n",
    "df_merged[\"type\"] = df_merged[\"type\"].astype(\"category\")\n"
   ]
  },
  {
   "cell_type": "code",
   "execution_count": 45,
   "metadata": {},
   "outputs": [],
   "source": [
    "df_merged[\"members_log\"] = np.log1p(df_merged[\"members\"])\n",
    "df_merged = df_merged.drop(columns=[\"members\"])\n"
   ]
  },
  {
   "cell_type": "code",
   "execution_count": 46,
   "metadata": {},
   "outputs": [],
   "source": [
    "def hit_rate_at_k(model, test, train, df, k=5):\n",
    "    hits = 0\n",
    "    total_users = test[\"User_ID\"].nunique()\n",
    "\n",
    "    for user in test[\"User_ID\"].unique():\n",
    "        actual_anime = test.loc[test[\"User_ID\"] == user, \"Anime_ID\"].values[0]\n",
    "\n",
    "        # Находим аниме, которые пользователь не смотрел\n",
    "        watched_anime = train.loc[train[\"User_ID\"] == user, \"Anime_ID\"].unique()\n",
    "        candidates = df[~df[\"Anime_ID\"].isin(watched_anime)].copy()\n",
    "\n",
    "        # Делаем предсказания\n",
    "        preds = model.predict_proba(candidates[features])[:, 1]  # Вероятность \"Liked\"\n",
    "        candidates[\"score\"] = preds\n",
    "\n",
    "        # Берем топ-K рекомендаций\n",
    "        top_k = candidates.nlargest(k, \"score\")[\"Anime_ID\"].values\n",
    "\n",
    "        # Проверяем, попало ли реальное аниме в топ-K\n",
    "        if actual_anime in top_k:\n",
    "            hits += 1\n",
    "\n",
    "    return hits / total_users  # Доля успешных рекомендаций\n",
    "\n",
    "# Считаем\n",
    "\n",
    "\n",
    "\n"
   ]
  },
  {
   "cell_type": "code",
   "execution_count": 54,
   "metadata": {},
   "outputs": [
    {
     "name": "stdout",
     "output_type": "stream",
     "text": [
      "Train size: (415229, 56), Test size: (4714, 56)\n"
     ]
    }
   ],
   "source": [
    "from sklearn.model_selection import train_test_split\n",
    "\n",
    "# Группируем по пользователям и выбираем 1 случайную оценку в тест\n",
    "test = df_merged.groupby(\"User_ID\").sample(n=1)\n",
    "\n",
    "# Все остальные оценки - train\n",
    "train = df_merged.drop(test.index)\n",
    "\n",
    "# Проверяем размеры\n",
    "print(f\"Train size: {train.shape}, Test size: {test.shape}\")\n"
   ]
  },
  {
   "cell_type": "code",
   "execution_count": 49,
   "metadata": {},
   "outputs": [],
   "source": [
    "# Выбираем фичи и таргет\n",
    "features = [\"User_ID\", \"Anime_ID\", \"type\", \"rating\", \"episodes\", \"members_log\"] + list(genre_tfidf_df.columns)\n",
    "target = \"Liked\"\n",
    "\n",
    "# Разделяем данные\n",
    "X_train, y_train = train[features], train[target]\n",
    "X_test, y_test = test[features], test[target]\n",
    "\n",
    "# Категориальные переменные\n",
    "cat_features = [\"User_ID\", \"Anime_ID\", \"type\"]\n"
   ]
  },
  {
   "cell_type": "code",
   "execution_count": 50,
   "metadata": {},
   "outputs": [
    {
     "name": "stdout",
     "output_type": "stream",
     "text": [
      "0:\ttest: 0.7183394\tbest: 0.7183394 (0)\ttotal: 179ms\tremaining: 1m 29s\n",
      "100:\ttest: 0.8401114\tbest: 0.8401114 (100)\ttotal: 16.8s\tremaining: 1m 6s\n",
      "200:\ttest: 0.8432769\tbest: 0.8432952 (199)\ttotal: 34.2s\tremaining: 50.9s\n",
      "300:\ttest: 0.8452468\tbest: 0.8452490 (299)\ttotal: 52.1s\tremaining: 34.5s\n",
      "400:\ttest: 0.8464661\tbest: 0.8464688 (399)\ttotal: 1m 10s\tremaining: 17.4s\n",
      "499:\ttest: 0.8470444\tbest: 0.8470600 (494)\ttotal: 1m 27s\tremaining: 0us\n",
      "\n",
      "bestTest = 0.8470599617\n",
      "bestIteration = 494\n",
      "\n",
      "Shrink model to first 495 iterations.\n"
     ]
    },
    {
     "ename": "CatBoostError",
     "evalue": "(Error 2: No such file or directory) util/system/file.cpp:936: can't open \"models/catboost_recommender.cbm\" with mode WrOnly|CreateAlways|Seq (0x00000034)",
     "output_type": "error",
     "traceback": [
      "\u001b[0;31m---------------------------------------------------------------------------\u001b[0m",
      "\u001b[0;31mCatBoostError\u001b[0m                             Traceback (most recent call last)",
      "Cell \u001b[0;32mIn[50], line 15\u001b[0m\n\u001b[1;32m     13\u001b[0m \u001b[38;5;66;03m# Обучаем\u001b[39;00m\n\u001b[1;32m     14\u001b[0m model\u001b[38;5;241m.\u001b[39mfit(X_train, y_train, eval_set\u001b[38;5;241m=\u001b[39m(X_test, y_test), early_stopping_rounds\u001b[38;5;241m=\u001b[39m\u001b[38;5;241m50\u001b[39m)\n\u001b[0;32m---> 15\u001b[0m \u001b[43mmodel\u001b[49m\u001b[38;5;241;43m.\u001b[39;49m\u001b[43msave_model\u001b[49m\u001b[43m(\u001b[49m\u001b[38;5;124;43m\"\u001b[39;49m\u001b[38;5;124;43mmodels/catboost_recommender.cbm\u001b[39;49m\u001b[38;5;124;43m\"\u001b[39;49m\u001b[43m)\u001b[49m\n",
      "File \u001b[0;32m~/Desktop/RecomendSysPrototype/myenv/lib/python3.11/site-packages/catboost/core.py:3437\u001b[0m, in \u001b[0;36mCatBoost.save_model\u001b[0;34m(self, fname, format, export_parameters, pool)\u001b[0m\n\u001b[1;32m   3430\u001b[0m \u001b[38;5;28;01mif\u001b[39;00m pool \u001b[38;5;129;01mis\u001b[39;00m \u001b[38;5;129;01mnot\u001b[39;00m \u001b[38;5;28;01mNone\u001b[39;00m \u001b[38;5;129;01mand\u001b[39;00m \u001b[38;5;129;01mnot\u001b[39;00m \u001b[38;5;28misinstance\u001b[39m(pool, Pool):\n\u001b[1;32m   3431\u001b[0m     pool \u001b[38;5;241m=\u001b[39m Pool(\n\u001b[1;32m   3432\u001b[0m         data\u001b[38;5;241m=\u001b[39mpool,\n\u001b[1;32m   3433\u001b[0m         cat_features\u001b[38;5;241m=\u001b[39m\u001b[38;5;28mself\u001b[39m\u001b[38;5;241m.\u001b[39m_get_cat_feature_indices() \u001b[38;5;28;01mif\u001b[39;00m \u001b[38;5;129;01mnot\u001b[39;00m \u001b[38;5;28misinstance\u001b[39m(pool, FeaturesData) \u001b[38;5;28;01melse\u001b[39;00m \u001b[38;5;28;01mNone\u001b[39;00m,\n\u001b[1;32m   3434\u001b[0m         text_features\u001b[38;5;241m=\u001b[39m\u001b[38;5;28mself\u001b[39m\u001b[38;5;241m.\u001b[39m_get_text_feature_indices() \u001b[38;5;28;01mif\u001b[39;00m \u001b[38;5;129;01mnot\u001b[39;00m \u001b[38;5;28misinstance\u001b[39m(pool, FeaturesData) \u001b[38;5;28;01melse\u001b[39;00m \u001b[38;5;28;01mNone\u001b[39;00m,\n\u001b[1;32m   3435\u001b[0m         embedding_features\u001b[38;5;241m=\u001b[39m\u001b[38;5;28mself\u001b[39m\u001b[38;5;241m.\u001b[39m_get_embedding_feature_indices() \u001b[38;5;28;01mif\u001b[39;00m \u001b[38;5;129;01mnot\u001b[39;00m \u001b[38;5;28misinstance\u001b[39m(pool, FeaturesData) \u001b[38;5;28;01melse\u001b[39;00m \u001b[38;5;28;01mNone\u001b[39;00m\n\u001b[1;32m   3436\u001b[0m     )\n\u001b[0;32m-> 3437\u001b[0m \u001b[38;5;28;43mself\u001b[39;49m\u001b[38;5;241;43m.\u001b[39;49m\u001b[43m_save_model\u001b[49m\u001b[43m(\u001b[49m\u001b[43mfname\u001b[49m\u001b[43m,\u001b[49m\u001b[43m \u001b[49m\u001b[38;5;28;43mformat\u001b[39;49m\u001b[43m,\u001b[49m\u001b[43m \u001b[49m\u001b[43mexport_parameters\u001b[49m\u001b[43m,\u001b[49m\u001b[43m \u001b[49m\u001b[43mpool\u001b[49m\u001b[43m)\u001b[49m\n",
      "File \u001b[0;32m~/Desktop/RecomendSysPrototype/myenv/lib/python3.11/site-packages/catboost/core.py:1907\u001b[0m, in \u001b[0;36m_CatBoostBase._save_model\u001b[0;34m(self, output_file, format, export_parameters, pool)\u001b[0m\n\u001b[1;32m   1904\u001b[0m \u001b[38;5;28;01mif\u001b[39;00m export_parameters:\n\u001b[1;32m   1905\u001b[0m     params_string \u001b[38;5;241m=\u001b[39m json\u001b[38;5;241m.\u001b[39mdumps(export_parameters, \u001b[38;5;28mcls\u001b[39m\u001b[38;5;241m=\u001b[39m_NumpyAwareEncoder)\n\u001b[0;32m-> 1907\u001b[0m \u001b[38;5;28;43mself\u001b[39;49m\u001b[38;5;241;43m.\u001b[39;49m\u001b[43m_object\u001b[49m\u001b[38;5;241;43m.\u001b[39;49m\u001b[43m_save_model\u001b[49m\u001b[43m(\u001b[49m\u001b[43moutput_file\u001b[49m\u001b[43m,\u001b[49m\u001b[43m \u001b[49m\u001b[38;5;28;43mformat\u001b[39;49m\u001b[43m,\u001b[49m\u001b[43m \u001b[49m\u001b[43mparams_string\u001b[49m\u001b[43m,\u001b[49m\u001b[43m \u001b[49m\u001b[43mpool\u001b[49m\u001b[43m)\u001b[49m\n",
      "File \u001b[0;32m_catboost.pyx:5394\u001b[0m, in \u001b[0;36m_catboost._CatBoost._save_model\u001b[0;34m()\u001b[0m\n",
      "File \u001b[0;32m_catboost.pyx:5406\u001b[0m, in \u001b[0;36m_catboost._CatBoost._save_model\u001b[0;34m()\u001b[0m\n",
      "\u001b[0;31mCatBoostError\u001b[0m: (Error 2: No such file or directory) util/system/file.cpp:936: can't open \"models/catboost_recommender.cbm\" with mode WrOnly|CreateAlways|Seq (0x00000034)"
     ]
    }
   ],
   "source": [
    "from catboost import CatBoostClassifier\n",
    "\n",
    "model = CatBoostClassifier(\n",
    "    iterations=500,  # Количество деревьев\n",
    "    learning_rate=0.01,  # Скорость обучения\n",
    "    depth=4,  # Глубина деревьев\n",
    "    cat_features=cat_features,  # Категориальные фичи\n",
    "    loss_function=\"Logloss\",  # Классификация\n",
    "    eval_metric=\"AUC\",  # Оцениваем по AUC\n",
    "    verbose=100\n",
    ")\n",
    "\n",
    "# Обучаем\n",
    "model.fit(X_train, y_train, eval_set=(X_test, y_test), early_stopping_rounds=50)\n",
    "\n"
   ]
  },
  {
   "cell_type": "code",
   "execution_count": 51,
   "metadata": {},
   "outputs": [],
   "source": [
    "model.save_model(\"../models/catboost_recommender.cbm\")"
   ]
  },
  {
   "cell_type": "code",
   "execution_count": 52,
   "metadata": {},
   "outputs": [
    {
     "name": "stdout",
     "output_type": "stream",
     "text": [
      "HitRate@5: 0.0017\n"
     ]
    }
   ],
   "source": [
    "# Считаем\n",
    "hit_rate = hit_rate_at_k(model, test, train, df_merged, k=5)\n",
    "print(f\"HitRate@5: {hit_rate:.4f}\")"
   ]
  }
 ],
 "metadata": {
  "kernelspec": {
   "display_name": "myenv",
   "language": "python",
   "name": "python3"
  },
  "language_info": {
   "codemirror_mode": {
    "name": "ipython",
    "version": 3
   },
   "file_extension": ".py",
   "mimetype": "text/x-python",
   "name": "python",
   "nbconvert_exporter": "python",
   "pygments_lexer": "ipython3",
   "version": "3.11.9"
  }
 },
 "nbformat": 4,
 "nbformat_minor": 2
}
