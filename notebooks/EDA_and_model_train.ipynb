{
 "cells": [
  {
   "cell_type": "code",
   "execution_count": null,
   "metadata": {},
   "outputs": [],
   "source": [
    "import sys\n",
    "import os\n",
    "\n",
    "# Переход в корневую директорию проекта\n",
    "project_root = os.path.abspath(\"..\")  # Выход из папки notebooks\n",
    "sys.path.append(project_root)\n",
    "\n",
    "\n"
   ]
  },
  {
   "cell_type": "code",
   "execution_count": 1,
   "metadata": {},
   "outputs": [],
   "source": [
    "import pandas as pd\n",
    "import numpy as np\n",
    "import matplotlib.pyplot as plt\n",
    "from db_init import SessionLocal, engine\n",
    "from tables import AnimeInfo, AnimeRatings\n",
    "from catboost import CatBoostRegressor\n",
    "session = SessionLocal()\n"
   ]
  },
  {
   "cell_type": "code",
   "execution_count": 2,
   "metadata": {},
   "outputs": [],
   "source": [
    "\n",
    "def batch_load_sql(query) -> pd.DataFrame:\n",
    "    CHUNKSIZE = 200000\n",
    "    conn = engine.connect().execution_options(stream_results=True)\n",
    "    chunks = []\n",
    "    for chunk_dataframe in pd.read_sql(str(query.statement), conn, chunksize=CHUNKSIZE):\n",
    "        chunks.append(chunk_dataframe)\n",
    "    conn.close()\n",
    "    return pd.concat(chunks, ignore_index=True)"
   ]
  },
  {
   "cell_type": "code",
   "execution_count": null,
   "metadata": {},
   "outputs": [],
   "source": []
  },
  {
   "cell_type": "code",
   "execution_count": 4,
   "metadata": {},
   "outputs": [],
   "source": [
    "\n",
    "query_anime_info = session.query(AnimeInfo)\n",
    "query_anime_ratings = session.query(AnimeRatings)\n",
    "df_anime_ratings = batch_load_sql(query_anime_ratings)\n",
    "\n",
    "df_anime_info = batch_load_sql(query_anime_info)\n",
    "df_anime_ratings = batch_load_sql(query_anime_ratings)\n",
    "\n",
    "\n"
   ]
  },
  {
   "cell_type": "code",
   "execution_count": 5,
   "metadata": {},
   "outputs": [
    {
     "data": {
      "text/html": [
       "<div>\n",
       "<style scoped>\n",
       "    .dataframe tbody tr th:only-of-type {\n",
       "        vertical-align: middle;\n",
       "    }\n",
       "\n",
       "    .dataframe tbody tr th {\n",
       "        vertical-align: top;\n",
       "    }\n",
       "\n",
       "    .dataframe thead th {\n",
       "        text-align: right;\n",
       "    }\n",
       "</style>\n",
       "<table border=\"1\" class=\"dataframe\">\n",
       "  <thead>\n",
       "    <tr style=\"text-align: right;\">\n",
       "      <th></th>\n",
       "      <th>User_ID</th>\n",
       "      <th>Anime_ID</th>\n",
       "      <th>Feedback</th>\n",
       "      <th>anime_ids</th>\n",
       "      <th>name</th>\n",
       "      <th>genre</th>\n",
       "      <th>type</th>\n",
       "      <th>episodes</th>\n",
       "      <th>rating</th>\n",
       "      <th>members</th>\n",
       "    </tr>\n",
       "  </thead>\n",
       "  <tbody>\n",
       "    <tr>\n",
       "      <th>0</th>\n",
       "      <td>1</td>\n",
       "      <td>1</td>\n",
       "      <td>8</td>\n",
       "      <td>1</td>\n",
       "      <td>D.N.Angel</td>\n",
       "      <td>Action, Comedy, Fantasy, Magic, Romance, Schoo...</td>\n",
       "      <td>TV</td>\n",
       "      <td>26</td>\n",
       "      <td>7.35</td>\n",
       "      <td>126914</td>\n",
       "    </tr>\n",
       "    <tr>\n",
       "      <th>1</th>\n",
       "      <td>1</td>\n",
       "      <td>3</td>\n",
       "      <td>5</td>\n",
       "      <td>3</td>\n",
       "      <td>Bokusatsu Tenshi Dokuro-chan</td>\n",
       "      <td>Comedy, Ecchi, Magic</td>\n",
       "      <td>OVA</td>\n",
       "      <td>4</td>\n",
       "      <td>6.85</td>\n",
       "      <td>117080</td>\n",
       "    </tr>\n",
       "    <tr>\n",
       "      <th>2</th>\n",
       "      <td>1</td>\n",
       "      <td>5</td>\n",
       "      <td>9</td>\n",
       "      <td>5</td>\n",
       "      <td>Bokura ga Ita</td>\n",
       "      <td>Drama, Romance, Shoujo, Slice of Life</td>\n",
       "      <td>TV</td>\n",
       "      <td>26</td>\n",
       "      <td>7.54</td>\n",
       "      <td>125051</td>\n",
       "    </tr>\n",
       "    <tr>\n",
       "      <th>3</th>\n",
       "      <td>1</td>\n",
       "      <td>6</td>\n",
       "      <td>9</td>\n",
       "      <td>6</td>\n",
       "      <td>Death Note</td>\n",
       "      <td>Mystery, Police, Psychological, Supernatural, ...</td>\n",
       "      <td>TV</td>\n",
       "      <td>37</td>\n",
       "      <td>8.71</td>\n",
       "      <td>1013917</td>\n",
       "    </tr>\n",
       "    <tr>\n",
       "      <th>4</th>\n",
       "      <td>1</td>\n",
       "      <td>7</td>\n",
       "      <td>8</td>\n",
       "      <td>7</td>\n",
       "      <td>Clannad</td>\n",
       "      <td>Comedy, Drama, Romance, School, Slice of Life,...</td>\n",
       "      <td>TV</td>\n",
       "      <td>23</td>\n",
       "      <td>8.30</td>\n",
       "      <td>566690</td>\n",
       "    </tr>\n",
       "  </tbody>\n",
       "</table>\n",
       "</div>"
      ],
      "text/plain": [
       "   User_ID  Anime_ID  Feedback  anime_ids                          name  \\\n",
       "0        1         1         8          1                     D.N.Angel   \n",
       "1        1         3         5          3  Bokusatsu Tenshi Dokuro-chan   \n",
       "2        1         5         9          5                 Bokura ga Ita   \n",
       "3        1         6         9          6                    Death Note   \n",
       "4        1         7         8          7                       Clannad   \n",
       "\n",
       "                                               genre type  episodes  rating  \\\n",
       "0  Action, Comedy, Fantasy, Magic, Romance, Schoo...   TV        26    7.35   \n",
       "1                               Comedy, Ecchi, Magic  OVA         4    6.85   \n",
       "2              Drama, Romance, Shoujo, Slice of Life   TV        26    7.54   \n",
       "3  Mystery, Police, Psychological, Supernatural, ...   TV        37    8.71   \n",
       "4  Comedy, Drama, Romance, School, Slice of Life,...   TV        23    8.30   \n",
       "\n",
       "   members  \n",
       "0   126914  \n",
       "1   117080  \n",
       "2   125051  \n",
       "3  1013917  \n",
       "4   566690  "
      ]
     },
     "execution_count": 5,
     "metadata": {},
     "output_type": "execute_result"
    }
   ],
   "source": [
    "df_merged = pd.merge(\n",
    "    df_anime_ratings,\n",
    "    df_anime_info,\n",
    "    left_on=\"Anime_ID\",\n",
    "    right_on=\"anime_ids\",\n",
    "    how=\"left\",\n",
    ")\n",
    "df_merged.head()"
   ]
  },
  {
   "cell_type": "code",
   "execution_count": 6,
   "metadata": {},
   "outputs": [
    {
     "data": {
      "text/plain": [
       "User_ID      0\n",
       "Anime_ID     0\n",
       "Feedback     0\n",
       "anime_ids    0\n",
       "name         0\n",
       "genre        0\n",
       "type         0\n",
       "episodes     0\n",
       "rating       0\n",
       "members      0\n",
       "dtype: int64"
      ]
     },
     "execution_count": 6,
     "metadata": {},
     "output_type": "execute_result"
    }
   ],
   "source": [
    "df_merged.isna().sum()"
   ]
  },
  {
   "cell_type": "code",
   "execution_count": 7,
   "metadata": {},
   "outputs": [
    {
     "data": {
      "text/plain": [
       "Index(['User_ID', 'Anime_ID', 'Feedback', 'anime_ids', 'name', 'genre', 'type',\n",
       "       'episodes', 'rating', 'members'],\n",
       "      dtype='object')"
      ]
     },
     "execution_count": 7,
     "metadata": {},
     "output_type": "execute_result"
    }
   ],
   "source": [
    "df_merged.columns"
   ]
  },
  {
   "cell_type": "code",
   "execution_count": 8,
   "metadata": {},
   "outputs": [],
   "source": [
    "df_merged['genre'] = df_merged['genre'].str.split(', ')\n"
   ]
  },
  {
   "cell_type": "code",
   "execution_count": 15,
   "metadata": {},
   "outputs": [
    {
     "data": {
      "text/plain": [
       "genre\n",
       "Comedy           208247\n",
       "Action           177319\n",
       "Romance          134575\n",
       "Drama            114345\n",
       "Fantasy          108720\n",
       "Supernatural     107767\n",
       "School           102035\n",
       "Shounen          101006\n",
       "Adventure         90375\n",
       "Sci-Fi            86772\n",
       "Slice of Life     59244\n",
       "Ecchi             50194\n",
       "Mystery           49286\n",
       "Super Power       42561\n",
       "Magic             41257\n",
       "Seinen            41118\n",
       "Harem             40433\n",
       "Psychological     31653\n",
       "Mecha             30360\n",
       "Shoujo            26268\n",
       "Horror            24028\n",
       "Military          23938\n",
       "Historical        20105\n",
       "Thriller          19803\n",
       "Demons            18149\n",
       "Parody            14875\n",
       "Martial Arts      13840\n",
       "Sports            12960\n",
       "Vampire           12409\n",
       "Game              11900\n",
       "Music             10741\n",
       "Space              9624\n",
       "Police             8855\n",
       "Kids               6660\n",
       "Samurai            6358\n",
       "Hentai             5244\n",
       "Josei              4033\n",
       "Dementia           3599\n",
       "Shoujo Ai          3536\n",
       "Shounen Ai         3161\n",
       "Yaoi               1607\n",
       "Cars               1085\n",
       "Yuri                369\n",
       "                      2\n",
       "Name: count, dtype: int64"
      ]
     },
     "execution_count": 15,
     "metadata": {},
     "output_type": "execute_result"
    }
   ],
   "source": [
    "df_merged.explode('genre')['genre'].value_counts()\n"
   ]
  },
  {
   "cell_type": "code",
   "execution_count": 17,
   "metadata": {},
   "outputs": [],
   "source": [
    "import seaborn as sns"
   ]
  },
  {
   "cell_type": "code",
   "execution_count": 30,
   "metadata": {},
   "outputs": [
    {
     "data": {
      "text/html": [
       "<div>\n",
       "<style scoped>\n",
       "    .dataframe tbody tr th:only-of-type {\n",
       "        vertical-align: middle;\n",
       "    }\n",
       "\n",
       "    .dataframe tbody tr th {\n",
       "        vertical-align: top;\n",
       "    }\n",
       "\n",
       "    .dataframe thead th {\n",
       "        text-align: right;\n",
       "    }\n",
       "</style>\n",
       "<table border=\"1\" class=\"dataframe\">\n",
       "  <thead>\n",
       "    <tr style=\"text-align: right;\">\n",
       "      <th></th>\n",
       "      <th>User_ID</th>\n",
       "      <th>Anime_ID</th>\n",
       "      <th>Feedback</th>\n",
       "      <th>anime_ids</th>\n",
       "      <th>name</th>\n",
       "      <th>genre</th>\n",
       "      <th>type</th>\n",
       "      <th>episodes</th>\n",
       "      <th>rating</th>\n",
       "      <th>members</th>\n",
       "    </tr>\n",
       "  </thead>\n",
       "  <tbody>\n",
       "    <tr>\n",
       "      <th>0</th>\n",
       "      <td>1</td>\n",
       "      <td>1</td>\n",
       "      <td>8</td>\n",
       "      <td>1</td>\n",
       "      <td>D.N.Angel</td>\n",
       "      <td>[Action, Comedy, Fantasy, Magic, Romance, Scho...</td>\n",
       "      <td>TV</td>\n",
       "      <td>26</td>\n",
       "      <td>7.35</td>\n",
       "      <td>126914</td>\n",
       "    </tr>\n",
       "    <tr>\n",
       "      <th>1</th>\n",
       "      <td>1</td>\n",
       "      <td>3</td>\n",
       "      <td>5</td>\n",
       "      <td>3</td>\n",
       "      <td>Bokusatsu Tenshi Dokuro-chan</td>\n",
       "      <td>[Comedy, Ecchi, Magic]</td>\n",
       "      <td>OVA</td>\n",
       "      <td>4</td>\n",
       "      <td>6.85</td>\n",
       "      <td>117080</td>\n",
       "    </tr>\n",
       "    <tr>\n",
       "      <th>2</th>\n",
       "      <td>1</td>\n",
       "      <td>5</td>\n",
       "      <td>9</td>\n",
       "      <td>5</td>\n",
       "      <td>Bokura ga Ita</td>\n",
       "      <td>[Drama, Romance, Shoujo, Slice of Life]</td>\n",
       "      <td>TV</td>\n",
       "      <td>26</td>\n",
       "      <td>7.54</td>\n",
       "      <td>125051</td>\n",
       "    </tr>\n",
       "    <tr>\n",
       "      <th>3</th>\n",
       "      <td>1</td>\n",
       "      <td>6</td>\n",
       "      <td>9</td>\n",
       "      <td>6</td>\n",
       "      <td>Death Note</td>\n",
       "      <td>[Mystery, Police, Psychological, Supernatural,...</td>\n",
       "      <td>TV</td>\n",
       "      <td>37</td>\n",
       "      <td>8.71</td>\n",
       "      <td>1013917</td>\n",
       "    </tr>\n",
       "    <tr>\n",
       "      <th>4</th>\n",
       "      <td>1</td>\n",
       "      <td>7</td>\n",
       "      <td>8</td>\n",
       "      <td>7</td>\n",
       "      <td>Clannad</td>\n",
       "      <td>[Comedy, Drama, Romance, School, Slice of Life...</td>\n",
       "      <td>TV</td>\n",
       "      <td>23</td>\n",
       "      <td>8.30</td>\n",
       "      <td>566690</td>\n",
       "    </tr>\n",
       "    <tr>\n",
       "      <th>...</th>\n",
       "      <td>...</td>\n",
       "      <td>...</td>\n",
       "      <td>...</td>\n",
       "      <td>...</td>\n",
       "      <td>...</td>\n",
       "      <td>...</td>\n",
       "      <td>...</td>\n",
       "      <td>...</td>\n",
       "      <td>...</td>\n",
       "      <td>...</td>\n",
       "    </tr>\n",
       "    <tr>\n",
       "      <th>418634</th>\n",
       "      <td>4979</td>\n",
       "      <td>6020</td>\n",
       "      <td>9</td>\n",
       "      <td>6020</td>\n",
       "      <td>Tongari Boushi no Memole</td>\n",
       "      <td>[Fantasy, Magic, Shoujo]</td>\n",
       "      <td>TV</td>\n",
       "      <td>50</td>\n",
       "      <td>7.11</td>\n",
       "      <td>1009</td>\n",
       "    </tr>\n",
       "    <tr>\n",
       "      <th>419092</th>\n",
       "      <td>4982</td>\n",
       "      <td>4707</td>\n",
       "      <td>6</td>\n",
       "      <td>4707</td>\n",
       "      <td>Sekiei Ayakashi Mangatan</td>\n",
       "      <td>[Fantasy, Historical, Supernatural]</td>\n",
       "      <td>ONA</td>\n",
       "      <td>3</td>\n",
       "      <td>5.87</td>\n",
       "      <td>2615</td>\n",
       "    </tr>\n",
       "    <tr>\n",
       "      <th>419322</th>\n",
       "      <td>4987</td>\n",
       "      <td>6975</td>\n",
       "      <td>7</td>\n",
       "      <td>6975</td>\n",
       "      <td>Mini Skirt Gakuen</td>\n",
       "      <td>[Hentai]</td>\n",
       "      <td>OVA</td>\n",
       "      <td>1</td>\n",
       "      <td>4.64</td>\n",
       "      <td>657</td>\n",
       "    </tr>\n",
       "    <tr>\n",
       "      <th>419324</th>\n",
       "      <td>4987</td>\n",
       "      <td>6733</td>\n",
       "      <td>7</td>\n",
       "      <td>6733</td>\n",
       "      <td>Onna Kyoushi</td>\n",
       "      <td>[Hentai]</td>\n",
       "      <td>OVA</td>\n",
       "      <td>3</td>\n",
       "      <td>6.24</td>\n",
       "      <td>1570</td>\n",
       "    </tr>\n",
       "    <tr>\n",
       "      <th>419341</th>\n",
       "      <td>4987</td>\n",
       "      <td>7390</td>\n",
       "      <td>6</td>\n",
       "      <td>7390</td>\n",
       "      <td>Heisei Jogakuen Kagai Lesson</td>\n",
       "      <td>[Hentai]</td>\n",
       "      <td>OVA</td>\n",
       "      <td>1</td>\n",
       "      <td>5.00</td>\n",
       "      <td>503</td>\n",
       "    </tr>\n",
       "  </tbody>\n",
       "</table>\n",
       "<p>28524 rows × 10 columns</p>\n",
       "</div>"
      ],
      "text/plain": [
       "        User_ID  Anime_ID  Feedback  anime_ids                          name  \\\n",
       "0             1         1         8          1                     D.N.Angel   \n",
       "1             1         3         5          3  Bokusatsu Tenshi Dokuro-chan   \n",
       "2             1         5         9          5                 Bokura ga Ita   \n",
       "3             1         6         9          6                    Death Note   \n",
       "4             1         7         8          7                       Clannad   \n",
       "...         ...       ...       ...        ...                           ...   \n",
       "418634     4979      6020         9       6020      Tongari Boushi no Memole   \n",
       "419092     4982      4707         6       4707      Sekiei Ayakashi Mangatan   \n",
       "419322     4987      6975         7       6975             Mini Skirt Gakuen   \n",
       "419324     4987      6733         7       6733                  Onna Kyoushi   \n",
       "419341     4987      7390         6       7390  Heisei Jogakuen Kagai Lesson   \n",
       "\n",
       "                                                    genre type  episodes  \\\n",
       "0       [Action, Comedy, Fantasy, Magic, Romance, Scho...   TV        26   \n",
       "1                                  [Comedy, Ecchi, Magic]  OVA         4   \n",
       "2                 [Drama, Romance, Shoujo, Slice of Life]   TV        26   \n",
       "3       [Mystery, Police, Psychological, Supernatural,...   TV        37   \n",
       "4       [Comedy, Drama, Romance, School, Slice of Life...   TV        23   \n",
       "...                                                   ...  ...       ...   \n",
       "418634                           [Fantasy, Magic, Shoujo]   TV        50   \n",
       "419092                [Fantasy, Historical, Supernatural]  ONA         3   \n",
       "419322                                           [Hentai]  OVA         1   \n",
       "419324                                           [Hentai]  OVA         3   \n",
       "419341                                           [Hentai]  OVA         1   \n",
       "\n",
       "        rating  members  \n",
       "0         7.35   126914  \n",
       "1         6.85   117080  \n",
       "2         7.54   125051  \n",
       "3         8.71  1013917  \n",
       "4         8.30   566690  \n",
       "...        ...      ...  \n",
       "418634    7.11     1009  \n",
       "419092    5.87     2615  \n",
       "419322    4.64      657  \n",
       "419324    6.24     1570  \n",
       "419341    5.00      503  \n",
       "\n",
       "[28524 rows x 10 columns]"
      ]
     },
     "execution_count": 30,
     "metadata": {},
     "output_type": "execute_result"
    }
   ],
   "source": [
    "df_merged.groupby('Anime_ID')\n"
   ]
  },
  {
   "cell_type": "code",
   "execution_count": 23,
   "metadata": {},
   "outputs": [
    {
     "data": {
      "text/plain": [
       "<Axes: xlabel='count', ylabel='Count'>"
      ]
     },
     "execution_count": 23,
     "metadata": {},
     "output_type": "execute_result"
    },
    {
     "data": {
      "image/png": "[encoded data removed]",
      "text/plain": [
       "<Figure size 640x480 with 1 Axes>"
      ]
     },
     "metadata": {},
     "output_type": "display_data"
    }
   ],
   "source": [
    "sns.histplot(df_merged.groupby('Anime_ID')['name'].value_counts())"
   ]
  },
  {
   "cell_type": "code",
   "execution_count": 31,
   "metadata": {},
   "outputs": [
    {
     "data": {
      "image/png": "[encoded data removed]",
      "text/plain": [
       "<Figure size 1000x500 with 1 Axes>"
      ]
     },
     "metadata": {},
     "output_type": "display_data"
    }
   ],
   "source": [
    "anime_feedback_counts = df_merged['Anime_ID'].value_counts()\n",
    "plt.figure(figsize=(10, 5))\n",
    "sns.histplot(anime_feedback_counts, bins=50, kde=True)\n",
    "plt.xlabel('Количество оценок')\n",
    "plt.ylabel('Частота')\n",
    "plt.title('Распределение количества оценок на аниме')\n",
    "plt.yscale('log')  # Логарифмическая шкала для удобства\n",
    "plt.show()"
   ]
  },
  {
   "cell_type": "code",
   "execution_count": 35,
   "metadata": {},
   "outputs": [],
   "source": [
    "from sklearn.preprocessing import MultiLabelBinarizer\n",
    "\n",
    "mlb = MultiLabelBinarizer()\n",
    "genre_encoded = pd.DataFrame(mlb.fit_transform(df_merged['genre']), columns=mlb.classes_)\n",
    "\n",
    "# Добавляем к основному датасету\n",
    "df_merged = pd.concat([df_merged, genre_encoded], axis=1)\n"
   ]
  },
  {
   "cell_type": "code",
   "execution_count": 44,
   "metadata": {},
   "outputs": [],
   "source": [
    "from sklearn.model_selection import train_test_split\n",
    "\n",
    "train_users, test_users = train_test_split(df_merged['User_ID'].unique(), test_size=0.2)\n",
    "\n",
    "df_train = df_merged[df_merged['User_ID'].isin(train_users)]\n",
    "df_test = df_merged[df_merged['User_ID'].isin(test_users)]\n",
    "\n"
   ]
  },
  {
   "cell_type": "code",
   "execution_count": 37,
   "metadata": {},
   "outputs": [],
   "source": [
    "def hitrate_at_k(recommendations, test_data, k=5):\n",
    "    hits = 0\n",
    "    total = 0\n",
    "    \n",
    "    for user_id in test_data['User_ID'].unique():\n",
    "        actual_watched = set(test_data[test_data['User_ID'] == user_id]['Anime_ID'])\n",
    "        recommended = set(recommendations.get(user_id, [])[:k])\n",
    "        \n",
    "        if recommended & actual_watched:\n",
    "            hits += 1\n",
    "        total += 1\n",
    "\n",
    "    return hits / total\n",
    "\n",
    "# Пример вызова: hitrate_at_k(recommendations_dict, df_merged, k=5)\n",
    "\n"
   ]
  },
  {
   "cell_type": "code",
   "execution_count": 45,
   "metadata": {},
   "outputs": [
    {
     "name": "stdout",
     "output_type": "stream",
     "text": [
      "0:\tlearn: 1.5729426\ttest: 1.5709642\tbest: 1.5709642 (0)\ttotal: 56.6ms\tremaining: 28.2s\n",
      "50:\tlearn: 1.4515182\ttest: 1.4577235\tbest: 1.4577235 (50)\ttotal: 3.39s\tremaining: 29.8s\n",
      "100:\tlearn: 1.4489983\ttest: 1.4564382\tbest: 1.4564382 (100)\ttotal: 6.3s\tremaining: 24.9s\n",
      "150:\tlearn: 1.4480512\ttest: 1.4563753\tbest: 1.4563434 (139)\ttotal: 9.2s\tremaining: 21.3s\n",
      "Stopped by overfitting detector  (20 iterations wait)\n",
      "\n",
      "bestTest = 1.456343364\n",
      "bestIteration = 139\n",
      "\n",
      "Shrink model to first 140 iterations.\n"
     ]
    },
    {
     "data": {
      "text/plain": [
       "<catboost.core.CatBoostRegressor at 0x7a661dbb8b10>"
      ]
     },
     "execution_count": 45,
     "metadata": {},
     "output_type": "execute_result"
    }
   ],
   "source": [
    "from catboost import CatBoostRegressor\n",
    "\n",
    "# Выбираем признаки\n",
    "features = ['type', 'episodes', 'rating', 'members'] + list(genre_encoded.columns)\n",
    "target = 'Feedback'\n",
    "\n",
    "# Создаем и обучаем модель\n",
    "model = CatBoostRegressor(\n",
    "    iterations=500, \n",
    "    depth=8,  \n",
    "    learning_rate=0.05,  \n",
    "    l2_leaf_reg=10,  # Усиление регуляризации\n",
    "    loss_function='RMSE', \n",
    "    cat_features=['type'], \n",
    "    early_stopping_rounds=30,  # Даем больше шансов улучшиться\n",
    "    verbose=50\n",
    ")\n",
    "model.fit(df_train[features], df_train[target], eval_set=(df_test[features], df_test[target]), early_stopping_rounds=20)\n"
   ]
  },
  {
   "cell_type": "code",
   "execution_count": 46,
   "metadata": {},
   "outputs": [
    {
     "name": "stderr",
     "output_type": "stream",
     "text": [
      "/tmp/ipykernel_61088/3996653957.py:4: SettingWithCopyWarning: \n",
      "A value is trying to be set on a copy of a slice from a DataFrame.\n",
      "Try using .loc[row_indexer,col_indexer] = value instead\n",
      "\n",
      "See the caveats in the documentation: https://pandas.pydata.org/pandas-docs/stable/user_guide/indexing.html#returning-a-view-versus-a-copy\n",
      "  df_test['predicted_score'] = predictions\n",
      "/tmp/ipykernel_61088/3996653957.py:5: DeprecationWarning: DataFrameGroupBy.apply operated on the grouping columns. This behavior is deprecated, and in a future version of pandas the grouping columns will be excluded from the operation. Either pass `include_groups=False` to exclude the groupings or explicitly select the grouping columns after groupby to silence this warning.\n",
      "  recommendations = df_test.groupby('User_ID').apply(lambda x: x.sort_values('predicted_score', ascending=False)['Anime_ID'].tolist())\n"
     ]
    },
    {
     "name": "stdout",
     "output_type": "stream",
     "text": [
      "Hitrate@5: 1.0000\n"
     ]
    }
   ],
   "source": [
    "predictions = model.predict(df_test[features])\n",
    "\n",
    "# Формируем рекомендации\n",
    "df_test['predicted_score'] = predictions\n",
    "recommendations = df_test.groupby('User_ID').apply(lambda x: x.sort_values('predicted_score', ascending=False)['Anime_ID'].tolist())\n",
    "\n",
    "# Считаем hitrate@5\n",
    "hitrate = hitrate_at_k(recommendations, df_test, k=5)\n",
    "print(f'Hitrate@5: {hitrate:.4f}')\n"
   ]
  },
  {
   "cell_type": "code",
   "execution_count": 47,
   "metadata": {},
   "outputs": [
    {
     "data": {
      "text/plain": [
       "2.1209359926523796"
      ]
     },
     "execution_count": 47,
     "metadata": {},
     "output_type": "execute_result"
    }
   ],
   "source": [
    "from sklearn.metrics import mean_squared_error\n",
    "\n",
    "mean_squared_error(df_test['Feedback'],predictions)"
   ]
  },
  {
   "cell_type": "code",
   "execution_count": 48,
   "metadata": {},
   "outputs": [],
   "source": [
    "model.save_model(\"catboost_recommender.cbm\")\n",
    "\n"
   ]
  }
 ],
 "metadata": {
  "kernelspec": {
   "display_name": "myenv",
   "language": "python",
   "name": "python3"
  },
  "language_info": {
   "codemirror_mode": {
    "name": "ipython",
    "version": 3
   },
   "file_extension": ".py",
   "mimetype": "text/x-python",
   "name": "python",
   "nbconvert_exporter": "python",
   "pygments_lexer": "ipython3",
   "version": "3.11.9"
  }
 },
 "nbformat": 4,
 "nbformat_minor": 2
}
